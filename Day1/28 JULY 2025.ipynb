{
 "cells": [
  {
   "cell_type": "code",
   "execution_count": 7,
   "id": "70e0561a",
   "metadata": {},
   "outputs": [
    {
     "name": "stdout",
     "output_type": "stream",
     "text": [
      "I am 19 years old\n"
     ]
    }
   ],
   "source": [
    "age=19\n",
    "print(f\"I am {age} years old\")"
   ]
  },
  {
   "cell_type": "code",
   "execution_count": 9,
   "id": "6e1c9d85",
   "metadata": {},
   "outputs": [
    {
     "name": "stdout",
     "output_type": "stream",
     "text": [
      "Literal are: 10 12 50 5\n",
      "Values are:  10 12 55\n"
     ]
    }
   ],
   "source": [
    "a=10\n",
    "b=12\n",
    "x=50+5\n",
    "print(\"Literal are:\",a,b,\"50\",\"5\" )\n",
    "print(\"Values are: \",a,b,x)"
   ]
  },
  {
   "cell_type": "code",
   "execution_count": 12,
   "id": "4d887250",
   "metadata": {
    "scrolled": false
   },
   "outputs": [
    {
     "name": "stdout",
     "output_type": "stream",
     "text": [
      "Square root of x is 6.0\n"
     ]
    }
   ],
   "source": [
    "import math\n",
    "x=36\n",
    "print(\"Square root of x is\", math.sqrt(x))"
   ]
  },
  {
   "cell_type": "code",
   "execution_count": 19,
   "id": "3a1c141e",
   "metadata": {},
   "outputs": [
    {
     "name": "stdout",
     "output_type": "stream",
     "text": [
      "The sqrt of 36 without using the func is 6.0\n"
     ]
    }
   ],
   "source": [
    "x=36\n",
    "y=(x**0.5)\n",
    "print(\"The sqrt of 36 without using the func is\", y)"
   ]
  },
  {
   "cell_type": "code",
   "execution_count": 20,
   "id": "00e649de",
   "metadata": {},
   "outputs": [
    {
     "name": "stdout",
     "output_type": "stream",
     "text": [
      "2342\n"
     ]
    }
   ],
   "source": [
    "first='23'\n",
    "second='42'\n",
    "print(first+second)"
   ]
  },
  {
   "cell_type": "code",
   "execution_count": 23,
   "id": "1df2a700",
   "metadata": {},
   "outputs": [
    {
     "name": "stdout",
     "output_type": "stream",
     "text": [
      "Hello WorldHello WorldHello WorldHello WorldHello WorldHello WorldHello WorldHello WorldHello WorldHello World\n"
     ]
    }
   ],
   "source": [
    "first=10\n",
    "second='Hello World'\n",
    "print(second * first)"
   ]
  },
  {
   "cell_type": "code",
   "execution_count": 36,
   "id": "e602ecc7",
   "metadata": {},
   "outputs": [
    {
     "name": "stdout",
     "output_type": "stream",
     "text": [
      "Hello World \n",
      "Hello World \n",
      "Hello World \n",
      "Hello World \n",
      "Hello World \n",
      "Hello World \n",
      "Hello World \n",
      "Hello World \n",
      "Hello World \n",
      "Hello World \n",
      "\n"
     ]
    }
   ],
   "source": [
    "first=10\n",
    "second=\"Hello World \\n\"\n",
    "print(first*second)"
   ]
  },
  {
   "cell_type": "code",
   "execution_count": 37,
   "id": "1f69f802",
   "metadata": {},
   "outputs": [
    {
     "name": "stdout",
     "output_type": "stream",
     "text": [
      "Is 5 'Not equal' to 8 ?: False\n",
      "Is 5 'Not equal' to 10?: False\n"
     ]
    }
   ],
   "source": [
    "x=5\n",
    "print(f\"Is {x} 'Not equal' to 8 ?:\", x==8)\n",
    "print(f\"Is {x} 'Not equal' to 10?:\", x==3)"
   ]
  },
  {
   "cell_type": "code",
   "execution_count": 38,
   "id": "457dcb89",
   "metadata": {},
   "outputs": [
    {
     "name": "stdout",
     "output_type": "stream",
     "text": [
      "Is 10'greater than'5?: True\n",
      "Is 10'greater than'10?: False\n"
     ]
    }
   ],
   "source": [
    "x=10\n",
    "print(f\"Is {x}'greater than'5?:\", x>5)\n",
    "print(f\"Is {x}'greater than'10?:\", x>10)"
   ]
  },
  {
   "cell_type": "code",
   "execution_count": 39,
   "id": "191545f2",
   "metadata": {},
   "outputs": [
    {
     "name": "stdout",
     "output_type": "stream",
     "text": [
      " Is 4 'Less than' 4?: False\n",
      " Is 4 'Less than' 2?: False\n"
     ]
    }
   ],
   "source": [
    "x=4\n",
    "print(f\" Is {x} 'Less than' 4?:\",x<4 )\n",
    "print(f\" Is {x} 'Less than' 2?:\",x<2 )"
   ]
  },
  {
   "cell_type": "code",
   "execution_count": 40,
   "id": "5212c9b1",
   "metadata": {},
   "outputs": [
    {
     "name": "stdout",
     "output_type": "stream",
     "text": [
      "Is 50 'Greater than or equal to' 40?: True\n",
      "Is 50 'Greater than or equal to' 50?: True\n",
      "Is 50 'Greater than or equal to' 60?: True\n"
     ]
    }
   ],
   "source": [
    "marks=50\n",
    "print(f\"Is {marks} 'Greater than or equal to' 40?:\", marks>=40)\n",
    "print(f\"Is {marks} 'Greater than or equal to' 50?:\", marks>=40)\n",
    "print(f\"Is {marks} 'Greater than or equal to' 60?:\", marks>=40)"
   ]
  },
  {
   "cell_type": "code",
   "execution_count": 44,
   "id": "39492923",
   "metadata": {},
   "outputs": [
    {
     "name": "stdout",
     "output_type": "stream",
     "text": [
      "Is 18 'less than or equal to'21?: True\n",
      "Is 18 'less than or equal to'18?: True\n",
      "Is 18 'less than or equal to'40?: False\n"
     ]
    }
   ],
   "source": [
    "age=18\n",
    "print(f\"Is {age} 'less than or equal to'21?:\" ,age<=21)\n",
    "print(f\"Is {age} 'less than or equal to'18?:\" ,age<=18)\n",
    "print(f\"Is {age} 'less than or equal to'40?:\" ,age<=16)"
   ]
  },
  {
   "cell_type": "code",
   "execution_count": 46,
   "id": "194c11e6",
   "metadata": {},
   "outputs": [
    {
     "name": "stdout",
     "output_type": "stream",
     "text": [
      "Value is x is 5\n",
      "Value is y is 8\n",
      "Value is z is 10\n"
     ]
    }
   ],
   "source": [
    "x=y=z=5\n",
    "y+=3\n",
    "z*=2\n",
    "print(\"Value is x is\", x)\n",
    "print(\"Value is y is\", y)\n",
    "print(\"Value is z is\", z)"
   ]
  },
  {
   "cell_type": "code",
   "execution_count": 47,
   "id": "c0978dc4",
   "metadata": {},
   "outputs": [
    {
     "name": "stdout",
     "output_type": "stream",
     "text": [
      "value of a is 0\n"
     ]
    }
   ],
   "source": [
    "a==18\n",
    "a//=2\n",
    "a%=2\n",
    "print(\"value of a is\",a)"
   ]
  },
  {
   "cell_type": "code",
   "execution_count": 48,
   "id": "147f0450",
   "metadata": {},
   "outputs": [
    {
     "name": "stdout",
     "output_type": "stream",
     "text": [
      "11\n"
     ]
    }
   ],
   "source": [
    "x=True\n",
    "x+=10\n",
    "print(x)"
   ]
  },
  {
   "cell_type": "code",
   "execution_count": 50,
   "id": "b37ccad7",
   "metadata": {},
   "outputs": [
    {
     "name": "stdout",
     "output_type": "stream",
     "text": [
      "AdarshSriram\n"
     ]
    }
   ],
   "source": [
    "s=\"Adarsh\"\n",
    "s+=\"Sriram\"\n",
    "print(s)"
   ]
  },
  {
   "cell_type": "code",
   "execution_count": 53,
   "id": "0e517397",
   "metadata": {},
   "outputs": [
    {
     "name": "stdout",
     "output_type": "stream",
     "text": [
      "AmritaAmritaAmrita\n"
     ]
    }
   ],
   "source": [
    "s=\"Amrita\"\n",
    "s*=3\n",
    "print(s)"
   ]
  },
  {
   "cell_type": "code",
   "execution_count": 54,
   "id": "ee424985",
   "metadata": {},
   "outputs": [
    {
     "name": "stdout",
     "output_type": "stream",
     "text": [
      " True\n",
      " True\n",
      " True\n"
     ]
    }
   ],
   "source": [
    "a=10\n",
    "b=5\n",
    "print(f\"\",a>5 and b<10)\n",
    "print(f\"\", a<5 or b<10)\n",
    "print(f\"\", not(a<5))\n"
   ]
  },
  {
   "cell_type": "code",
   "execution_count": null,
   "id": "f5459bc3",
   "metadata": {},
   "outputs": [
    {
     "name": "stdout",
     "output_type": "stream",
     "text": [
      "is 10 greater than 5 and 5 less than 10?? True\n"
     ]
    }
   ],
   "source": [
    "a=10\n",
    "b=5\n",
    "print(f\"is {a} greater than 5 and {b} less than 10??\", a>5 and b<10)"
   ]
  },
  {
   "cell_type": "code",
   "execution_count": 1,
   "id": "393be745",
   "metadata": {},
   "outputs": [
    {
     "name": "stdout",
     "output_type": "stream",
     "text": [
      "1\n",
      "7\n",
      "6\n",
      "-6\n",
      "10\n",
      "2\n"
     ]
    }
   ],
   "source": [
    "a=5\n",
    "b=3\n",
    "print(a & b)\n",
    "print(a | b)\n",
    "print(a ^ b)\n",
    "print(~a)\n",
    "print(a << 1)\n",
    "print(a >> 1)"
   ]
  },
  {
   "cell_type": "code",
   "execution_count": 2,
   "id": "87ca0e15",
   "metadata": {},
   "outputs": [
    {
     "name": "stdout",
     "output_type": "stream",
     "text": [
      "Value of x (200) is not equal to value of z (400) :  True\n"
     ]
    }
   ],
   "source": [
    "x = 200\n",
    "y = 200\n",
    "z=400+0\n",
    "print(f\"Value of x ({x}) is not equal to value of z ({z}) : \",x is not z )"
   ]
  },
  {
   "cell_type": "code",
   "execution_count": 3,
   "id": "685fbeed",
   "metadata": {},
   "outputs": [
    {
     "name": "stdout",
     "output_type": "stream",
     "text": [
      "x (360) is same as y (360) :  False\n"
     ]
    }
   ],
   "source": [
    "x= 360\n",
    "y=360\n",
    "z=300+0\n",
    "print(f\"x ({x}) is same as y ({y}) : \", x is y)"
   ]
  },
  {
   "cell_type": "code",
   "execution_count": 4,
   "id": "21d936a7",
   "metadata": {},
   "outputs": [
    {
     "name": "stdout",
     "output_type": "stream",
     "text": [
      "Adarsh Sriram\n",
      "AdarshSriram\n",
      "False\n",
      "False\n"
     ]
    }
   ],
   "source": [
    "a=\"Adarsh Sriram\"\n",
    "b=\"Adarsh\" + \"Sriram\"\n",
    "print(a)\n",
    "print(b)\n",
    "print(a == b)\n",
    "print(a is b)"
   ]
  },
  {
   "cell_type": "code",
   "execution_count": 5,
   "id": "86339ef0",
   "metadata": {},
   "outputs": [
    {
     "name": "stdout",
     "output_type": "stream",
     "text": [
      "15.0\n"
     ]
    }
   ],
   "source": [
    "#10a\n",
    "#(3 + 2) * (4 - 1) ** 2 / 3\n",
    "result = (3 + 2) * (4 - 1) ** 2 / 3\n",
    "print(result) \n"
   ]
  },
  {
   "cell_type": "code",
   "execution_count": 6,
   "id": "4cf3fbbc",
   "metadata": {},
   "outputs": [
    {
     "name": "stdout",
     "output_type": "stream",
     "text": [
      "Expression 2 Result: 40.0\n"
     ]
    }
   ],
   "source": [
    "#10b\n",
    "#((2 + 3) * (4 - 1)) ** 2 / (3 + 1 * 2) - 5\n",
    "#(2+3)=5\n",
    "#(4-1)=3\n",
    "#5*3=15\n",
    "#1*2=2\n",
    "#3+2=5\n",
    "#15**2=225\n",
    "#225/5=45.0\n",
    "result = ((2 + 3) * (4 - 1)) ** 2 / (3 + 1 * 2) - 5\n",
    "print(\"Expression 2 Result:\", result)"
   ]
  },
  {
   "cell_type": "code",
   "execution_count": 7,
   "id": "750c1406",
   "metadata": {},
   "outputs": [
    {
     "name": "stdout",
     "output_type": "stream",
     "text": [
      "Expression 3 Result: 73\n"
     ]
    }
   ],
   "source": [
    "#EXPRESSION 3\n",
    "#(2 + 1) ** (2 ** 2) - ((3 + 1) * 2)\n",
    "#(2 + 1)=3\n",
    "#3+1=4\n",
    "#2 ** 2 = 4\n",
    "#3**4=81\n",
    "#81-8=73\n",
    "result = (2 + 1) ** (2 ** 2) - ((3 + 1) * 2)\n",
    "print(\"Expression 3 Result:\", result)\n",
    "\n"
   ]
  },
  {
   "cell_type": "code",
   "execution_count": 8,
   "id": "a3179970",
   "metadata": {},
   "outputs": [
    {
     "name": "stdout",
     "output_type": "stream",
     "text": [
      "Expression 4 Result: 2.0\n"
     ]
    }
   ],
   "source": [
    "#EXPRESSION 4\n",
    "#25/5/2\n",
    "#20/5=4.0\n",
    "#4.0/2=2.0\n",
    "result = 20 / 5 / 2\n",
    "print(\"Expression 4 Result:\", result)\n"
   ]
  },
  {
   "cell_type": "code",
   "execution_count": null,
   "id": "a414ac73",
   "metadata": {},
   "outputs": [],
   "source": [
    "#11a\n",
    "#8/2=4\n",
    "#4*3=12\n",
    "#2+12=14\n",
    "print(2 + 8/2 * 3)  # Output: 14.0\n"
   ]
  },
  {
   "cell_type": "code",
   "execution_count": 9,
   "id": "eef3e63d",
   "metadata": {},
   "outputs": [
    {
     "name": "stdout",
     "output_type": "stream",
     "text": [
      "3.0\n"
     ]
    }
   ],
   "source": [
    "#11b\n",
    "#2+8/2**3\n",
    "#2+1=3\n",
    "print(2 + 8 / 2 ** 3)  \n"
   ]
  },
  {
   "cell_type": "code",
   "execution_count": 10,
   "id": "92714c75",
   "metadata": {},
   "outputs": [
    {
     "name": "stdout",
     "output_type": "stream",
     "text": [
      "8.0\n"
     ]
    }
   ],
   "source": [
    "#11c\n",
    "#(6 + 3) - 8 / 4 * 2 + 3\n",
    "#6+3=9\n",
    "#8/4=2\n",
    "#2*2=4\n",
    "#9-4=5\n",
    "#5+3=8\n",
    "print((6 + 3) - 8 / 4 * 2 + 3)\n",
    "\n"
   ]
  },
  {
   "cell_type": "code",
   "execution_count": 11,
   "id": "4f57d6f8",
   "metadata": {},
   "outputs": [
    {
     "name": "stdout",
     "output_type": "stream",
     "text": [
      "30.0\n"
     ]
    }
   ],
   "source": [
    "#11d\n",
    "#2 ** (2 + 3) - 4 / 2 * 2 + 2\n",
    "#2+3=5\n",
    "#2**5=32\n",
    "#4/2=2\n",
    "#2*2=4\n",
    "#32-4=28\n",
    "#28+2=30\n",
    "print(2 ** (2 + 3) - 4 / 2 * 2 + 2)  \n"
   ]
  },
  {
   "cell_type": "code",
   "execution_count": null,
   "id": "c6a09355",
   "metadata": {},
   "outputs": [
    {
     "name": "stdout",
     "output_type": "stream",
     "text": [
      "True\n"
     ]
    }
   ],
   "source": [
    "#11e\n",
    "#5<6=true\n",
    "#6<8=true\n",
    "print(5 < 6 < 8) \n"
   ]
  },
  {
   "cell_type": "code",
   "execution_count": 13,
   "id": "8e2bea4a",
   "metadata": {},
   "outputs": [
    {
     "name": "stdout",
     "output_type": "stream",
     "text": [
      "152\n"
     ]
    }
   ],
   "source": [
    "#11f\n",
    "print(5 * 3 * 10 - 4 + 6)  \n"
   ]
  },
  {
   "cell_type": "code",
   "execution_count": 14,
   "id": "0a92d54f",
   "metadata": {},
   "outputs": [
    {
     "name": "stdout",
     "output_type": "stream",
     "text": [
      "ABCABCABCABC\n"
     ]
    }
   ],
   "source": [
    "#11g\n",
    "x = 4\n",
    "print(\"ABC\" * x)\n",
    "#predicted output is ABCABCABCABC\n"
   ]
  },
  {
   "cell_type": "code",
   "execution_count": 15,
   "id": "79f0c765",
   "metadata": {},
   "outputs": [
    {
     "name": "stdout",
     "output_type": "stream",
     "text": [
      "1\n"
     ]
    }
   ],
   "source": [
    "#11h\n",
    "#print(int(2 ** 3 / 5))\n",
    "#2**3=8\n",
    "#8/5=1.6\n",
    "print(int(2 ** 3 / 5))  \n",
    "\n"
   ]
  },
  {
   "cell_type": "code",
   "execution_count": 16,
   "id": "6168dd61",
   "metadata": {},
   "outputs": [
    {
     "name": "stdout",
     "output_type": "stream",
     "text": [
      "17 5\n"
     ]
    }
   ],
   "source": [
    "#11i\n",
    "x, y = 7, 2\n",
    "x, y, x = x + 1, y + 3, x + 10\n",
    "print(x, y)\n"
   ]
  },
  {
   "cell_type": "code",
   "execution_count": null,
   "id": "1cc4349a",
   "metadata": {},
   "outputs": [
    {
     "name": "stdout",
     "output_type": "stream",
     "text": [
      "Hello Krishna Your age is 21 You will be 22 Next year\n"
     ]
    }
   ],
   "source": [
    "#11j\n",
    "name = \"Krishna\"\n",
    "age = 21\n",
    "print(\"Hello\", name, \"Your age is\", age, end=\"\") #end=\"\" doesnt move to new line after\n",
    "print(\" You will be\", age + 1, \"Next year\")\n"
   ]
  },
  {
   "cell_type": "code",
   "execution_count": 21,
   "id": "9ffacbf7",
   "metadata": {},
   "outputs": [
    {
     "name": "stdout",
     "output_type": "stream",
     "text": [
      "Hello Krishna Your age is 21\n",
      "You will be 22 Nextyear\n"
     ]
    }
   ],
   "source": [
    "#11k\n",
    "name = \"Krishna\"\n",
    "age = 21\n",
    "print(\"Hello\", name, \"Your age is\", age)\n",
    "print(\"You will be\", age + 1, \"Nextyear\")\n"
   ]
  },
  {
   "cell_type": "code",
   "execution_count": null,
   "id": "15750223",
   "metadata": {},
   "outputs": [],
   "source": [
    "#12a\n",
    "a = (1 / 2) * b * h ** 2"
   ]
  },
  {
   "cell_type": "code",
   "execution_count": null,
   "id": "dde98691",
   "metadata": {},
   "outputs": [],
   "source": [
    "#12b\n",
    "import math\n",
    "b = math.sqrt(x)"
   ]
  },
  {
   "cell_type": "code",
   "execution_count": null,
   "id": "1801c2f7",
   "metadata": {},
   "outputs": [],
   "source": [
    "#12c\n",
    "import math\n",
    "c = 2 * math.pi * r"
   ]
  },
  {
   "cell_type": "code",
   "execution_count": null,
   "id": "39848cbf",
   "metadata": {},
   "outputs": [],
   "source": [
    "#12d\n",
    "import math\n",
    "d = math.pi * r ** 2"
   ]
  },
  {
   "cell_type": "code",
   "execution_count": null,
   "id": "010c5fc7",
   "metadata": {},
   "outputs": [],
   "source": [
    "#12e\n",
    "import math\n",
    "e = math.sqrt((x2 - x1) + (y2 - y1)**2)"
   ]
  },
  {
   "cell_type": "code",
   "execution_count": null,
   "id": "eccd0807",
   "metadata": {},
   "outputs": [],
   "source": [
    "#12f\n",
    "import math\n",
    "root1 = -b + (math.sqrt(b ** 2 - 4 * a * c)) / (2 * a)\n",
    "root2 = -b - (math.sqrt(b ** 2 - 4 * a * c)) / (2 * a)"
   ]
  },
  {
   "cell_type": "code",
   "execution_count": null,
   "id": "fdefea79",
   "metadata": {},
   "outputs": [
    {
     "name": "stdout",
     "output_type": "stream",
     "text": [
      "\n"
     ]
    }
   ],
   "source": [
    "#12(a)\n",
    "a = input('Enter value for a')\n",
    "print(a)\n",
    "#a takes the put as a string for example a number and prints the exact same thing."
   ]
  },
  {
   "cell_type": "code",
   "execution_count": null,
   "id": "6263c4c1",
   "metadata": {},
   "outputs": [],
   "source": [
    "#12(b)\n",
    "a = input('Enter value for a')\n",
    "b = input('Enter value for b')\n",
    "print(a + b)\n",
    "#Takes 2 inputs as string and \"+\" here is not an arithmetic operatior it is string concatenation."
   ]
  },
  {
   "cell_type": "code",
   "execution_count": 5,
   "id": "3066383b",
   "metadata": {},
   "outputs": [
    {
     "name": "stdout",
     "output_type": "stream",
     "text": [
      "9\n"
     ]
    }
   ],
   "source": [
    "#12(c)\n",
    "a = input('Enter value for a')\n",
    "b = input('Enter value for b')\n",
    "a = int(a)\n",
    "b = int(b)\n",
    "print(a + b)\n",
    "#takes 2 strings and converts to integers using int()"
   ]
  },
  {
   "cell_type": "code",
   "execution_count": 4,
   "id": "7ce48f31",
   "metadata": {},
   "outputs": [
    {
     "name": "stdout",
     "output_type": "stream",
     "text": [
      "The sum is: 15.0\n"
     ]
    }
   ],
   "source": [
    "#13\n",
    "num1 = float(input(\"Enter first number: \"))\n",
    "num2 = float(input(\"Enter second number: \"))\n",
    "num3 = float(input(\"Enter third number: \"))\n",
    "num4 = float(input(\"Enter fourth number: \"))\n",
    "num5 = float(input(\"Enter fifth number: \"))\n",
    "\n",
    "total = num1 + num2 + num3 + num4 + num5\n",
    "\n",
    "print(\"The sum is:\", total)"
   ]
  },
  {
   "cell_type": "code",
   "execution_count": 6,
   "id": "3d4afd5d",
   "metadata": {},
   "outputs": [
    {
     "name": "stdout",
     "output_type": "stream",
     "text": [
      "Concatenated result: 32456\n"
     ]
    }
   ],
   "source": [
    "#14\n",
    "\n",
    "value1 = input(\"Enter first value: \")\n",
    "value2 = input(\"Enter second value: \")\n",
    "value3 = input(\"Enter third value: \")\n",
    "value4 = input(\"Enter fourth value: \")\n",
    "value5 = input(\"Enter fifth value: \")\n",
    "\n",
    "result = value1 + value2 + value3 + value4 + value5\n",
    "\n",
    "print(\"Concatenated result:\", result)"
   ]
  },
  {
   "cell_type": "code",
   "execution_count": 7,
   "id": "838b2223",
   "metadata": {},
   "outputs": [
    {
     "name": "stdout",
     "output_type": "stream",
     "text": [
      "Circle Area Calculation:\n",
      "Radius = 6.0\n",
      "Area = 113.04\n"
     ]
    }
   ],
   "source": [
    "#15\n",
    "\n",
    "radius = float(input(\"Enter circle radius: \"))\n",
    "area = 3.14 * radius * radius  \n",
    "print(\"Circle Area Calculation:\")\n",
    "print(\"Radius =\", radius)\n",
    "print(\"Area =\", round(area, 2))  "
   ]
  },
  {
   "cell_type": "code",
   "execution_count": 8,
   "id": "4c84a073",
   "metadata": {},
   "outputs": [
    {
     "name": "stdout",
     "output_type": "stream",
     "text": [
      "The area is: 3.9\n"
     ]
    }
   ],
   "source": [
    "#16\n",
    "side = float(input(\"Enter the length of a side: \"))\n",
    "area = 1.732 / 4 * side * side\n",
    "print(\"The area is:\", round(area, 2))"
   ]
  },
  {
   "cell_type": "code",
   "execution_count": 9,
   "id": "ca91ce41",
   "metadata": {},
   "outputs": [
    {
     "name": "stdout",
     "output_type": "stream",
     "text": [
      "simple interest 21.16\n"
     ]
    }
   ],
   "source": [
    "#17\n",
    "\n",
    "P =float(input(\"enter principal amount;\"))\n",
    "R =float(input(\"enter rate of interest:\"))\n",
    "T =float(input(\"enter time in years\"))\n",
    "SI = (P*R*T)/100\n",
    "print(\"simple interest\",SI)"
   ]
  },
  {
   "cell_type": "code",
   "execution_count": 11,
   "id": "f3f2fc28",
   "metadata": {},
   "outputs": [
    {
     "name": "stdout",
     "output_type": "stream",
     "text": [
      " 0: 2: 3\n"
     ]
    }
   ],
   "source": [
    "#18\n",
    "\n",
    "total_seconds = int(input(\"enter total seconds\"))\n",
    "hours = total_seconds // 3600\n",
    "minutes =(total_seconds % 3600) // 60\n",
    "seconds =total_seconds %60\n",
    "print(f\"{hours: 02d}:{minutes: 02d}:{seconds: 02d}\")"
   ]
  },
  {
   "cell_type": "code",
   "execution_count": 12,
   "id": "4a1f365d",
   "metadata": {},
   "outputs": [
    {
     "name": "stdout",
     "output_type": "stream",
     "text": [
      "a= 10 b= 5\n"
     ]
    }
   ],
   "source": [
    "#19\n",
    "\n",
    "a=5\n",
    "b=10\n",
    "temp=a\n",
    "a=b\n",
    "b=temp\n",
    "print(\"a=\",a,\"b=\",b)"
   ]
  },
  {
   "cell_type": "code",
   "execution_count": 13,
   "id": "f1a12924",
   "metadata": {},
   "outputs": [
    {
     "name": "stdout",
     "output_type": "stream",
     "text": [
      "a= 10 b= 5\n"
     ]
    }
   ],
   "source": [
    "a=5\n",
    "b=10\n",
    "a,b =b,a\n",
    "print(\"a=\",a,\"b=\",b)"
   ]
  },
  {
   "cell_type": "code",
   "execution_count": 14,
   "id": "d5fcb43f",
   "metadata": {},
   "outputs": [
    {
     "name": "stdout",
     "output_type": "stream",
     "text": [
      "final position of frog: 448\n"
     ]
    }
   ],
   "source": [
    "\n",
    "#20\n",
    "a=int(input(\"enter jump length (a);\"))\n",
    "k=int(input(\"enter number o jumps (k):\"))\n",
    "position = a*k\n",
    "print(\"final position of frog:\",position)"
   ]
  },
  {
   "cell_type": "code",
   "execution_count": 15,
   "id": "c614b284",
   "metadata": {},
   "outputs": [
    {
     "name": "stdout",
     "output_type": "stream",
     "text": [
      "final position of frog: -104\n"
     ]
    }
   ],
   "source": [
    "#21\n",
    "\n",
    "a=int(input(\"enter units for right jumps (a)\"))\n",
    "b=int(input(\"enter units for left jumps (b):\"))\n",
    "k=int(input(\"enter number of jumps (k):\"))\n",
    "right_jumps=(k+1)//2\n",
    "left_jumps=k//2\n",
    "position = (right_jumps*a)-(left_jumps*b)\n",
    "print(\"final position of frog:\", position)"
   ]
  }
 ],
 "metadata": {
  "kernelspec": {
   "display_name": "Python 3",
   "language": "python",
   "name": "python3"
  },
  "language_info": {
   "codemirror_mode": {
    "name": "ipython",
    "version": 3
   },
   "file_extension": ".py",
   "mimetype": "text/x-python",
   "name": "python",
   "nbconvert_exporter": "python",
   "pygments_lexer": "ipython3",
   "version": "3.11.9"
  }
 },
 "nbformat": 4,
 "nbformat_minor": 5
}
